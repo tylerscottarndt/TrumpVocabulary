{
 "cells": [
  {
   "cell_type": "code",
   "execution_count": 1,
   "metadata": {},
   "outputs": [],
   "source": [
    "import pandas as pd\n",
    "import pickle\n",
    "class Metrics:\n",
    "    def __init__(self, df):\n",
    "        self.df = pd.read_pickle(df)\n",
    "        self.union_speeches = []\n",
    "        self.rally_speeches = []\n",
    "        \n",
    "    def find_avg_word_length(self):\n",
    "        average_res = []\n",
    "        rally = self._get_speeches_list_from_df(self.df,1)\n",
    "        union = self._get_speeches_list_from_df(self.df,0)\n",
    "        self.rally_speeches.append(rally)\n",
    "        self.union_speeches.append(union)\n",
    "        word_count = 0\n",
    "        total_characters = 0\n",
    "        for speech_list in [rally, union]:\n",
    "            for speech in speech_list:\n",
    "                word_count += len(speech.split())\n",
    "                total_characters += len(speech) - speech.count(' ')\n",
    "                \n",
    "            avg_word_length = total_characters / word_count\n",
    "            average_res.append(round(avg_word_length,2))\n",
    "            \n",
    "            \n",
    "        return average_res\n",
    "\n",
    "\n",
    "    def _get_speeches_list_from_df(self, df, attr_val):\n",
    "        df_speeches = df.loc[df['type'] == attr_val]\n",
    "        speeches_list = df_speeches['transcript'].tolist()\n",
    "\n",
    "        return speeches_list"
   ]
  },
  {
   "cell_type": "code",
   "execution_count": 2,
   "metadata": {},
   "outputs": [
    {
     "name": "stderr",
     "output_type": "stream",
     "text": [
      "[nltk_data] Downloading package stopwords to /home/daniel/nltk_data...\n",
      "[nltk_data]   Package stopwords is already up-to-date!\n"
     ]
    }
   ],
   "source": [
    "import re\n",
    "import nltk\n",
    "from nltk.corpus import stopwords\n",
    "\n",
    "nltk.download('stopwords')\n",
    "from nltk.tokenize import word_tokenize\n",
    "\n",
    "def preprocess_text(sen):\n",
    "    # Remove punctuations and numbers\n",
    "    sentence = re.sub('[^a-zA-Z]', ' ', sen)\n",
    "\n",
    "    # Single character removal\n",
    "    sentence = re.sub(r\"\\s+[a-zA-Z]\\s+\", ' ', sentence)\n",
    "\n",
    "    # Removing multiple spaces\n",
    "    sentence = re.sub(r'\\s+', ' ', sentence)\n",
    "\n",
    "    return sentence"
   ]
  },
  {
   "cell_type": "code",
   "execution_count": 3,
   "metadata": {},
   "outputs": [],
   "source": [
    "import numpy as np\n",
    "from sklearn.model_selection import train_test_split\n",
    "\n",
    "class Compress:\n",
    "    def save_as_npz(self,df,npz_name=None,tran_data='transcript',label='type'):\n",
    "        X = []\n",
    "        y = np.array(df[label])\n",
    "        sentences = np.array(df[tran_data])\n",
    "        for sen in sentences:\n",
    "            X.append(preprocess_text(sen))\n",
    "        self._train_test_split(np.array(X), np.array(y), npz_filename=npz_name)\n",
    "        \n",
    "        \n",
    "\n",
    "    def _train_test_split(self,X,y,npz_filename=''+'.npz',test_size=0.2, random_state=42):\n",
    "        X_train, X_test, y_train, y_test = train_test_split(X, y, test_size=test_size, random_state=random_state)\n",
    "        print(X_train.shape, y_train.shape, X_test.shape, y_test.shape)\n",
    "        np.savez_compressed(npz_filename,\n",
    "                        X_train=X_train,\n",
    "                        y_train=y_train,\n",
    "                        X_test=X_test,\n",
    "                        y_test=y_test)\n",
    "        print(\"Saved {} as .npz\".format(npz_filename))\n",
    "    "
   ]
  },
  {
   "cell_type": "code",
   "execution_count": 4,
   "metadata": {},
   "outputs": [
    {
     "name": "stdout",
     "output_type": "stream",
     "text": [
      "[5.58, 5.67] [4.25, 4.31]\n",
      "[5.79, 6.04] [4.3, 4.53]\n"
     ]
    }
   ],
   "source": [
    "trump_snippits = Metrics(\"TRUMP_SNIPPETS_DF.pickle\")\n",
    "trump_speeches = Metrics('trump_speeches_df.pickle')\n",
    "obama_speeches = Metrics('obama_speeches_df.pickle')\n",
    "obama_snippits = Metrics('OBAMA_SNIPPETS_DF.pickle')\n",
    "\n",
    "\n",
    "print(trump_snippits.find_avg_word_length(), trump_speeches.find_avg_word_length())\n",
    "print(obama_snippits.find_avg_word_length(), obama_speeches.find_avg_word_length())"
   ]
  },
  {
   "cell_type": "code",
   "execution_count": 5,
   "metadata": {},
   "outputs": [],
   "source": [
    "trump_data = pickle.load(open(\"TRUMP_SNIPPETS_DF.pickle\", \"rb\" ))\n",
    "obama_data = pickle.load(open(\"OBAMA_SNIPPETS_DF.pickle\", \"rb\" ))"
   ]
  },
  {
   "cell_type": "code",
   "execution_count": 6,
   "metadata": {},
   "outputs": [
    {
     "data": {
      "text/plain": [
       "<matplotlib.axes._subplots.AxesSubplot at 0x7effd2bec990>"
      ]
     },
     "execution_count": 6,
     "metadata": {},
     "output_type": "execute_result"
    },
    {
     "data": {
      "image/png": "[encoded data removed]",
      "text/plain": [
       "<Figure size 432x288 with 1 Axes>"
      ]
     },
     "metadata": {
      "needs_background": "light"
     },
     "output_type": "display_data"
    }
   ],
   "source": [
    "import seaborn as sns\n",
    "sns.countplot(x='type', data=trump_data)"
   ]
  },
  {
   "cell_type": "code",
   "execution_count": 7,
   "metadata": {
    "scrolled": false
   },
   "outputs": [
    {
     "data": {
      "text/plain": [
       "<matplotlib.axes._subplots.AxesSubplot at 0x7effd3168b50>"
      ]
     },
     "execution_count": 7,
     "metadata": {},
     "output_type": "execute_result"
    },
    {
     "data": {
      "image/png": "[encoded data removed]",
      "text/plain": [
       "<Figure size 432x288 with 1 Axes>"
      ]
     },
     "metadata": {
      "needs_background": "light"
     },
     "output_type": "display_data"
    }
   ],
   "source": [
    "sns.countplot(x='type', data=obama_data)"
   ]
  },
  {
   "cell_type": "code",
   "execution_count": 8,
   "metadata": {},
   "outputs": [
    {
     "name": "stdout",
     "output_type": "stream",
     "text": [
      "(1941,) (1941,) (486,) (486,)\n",
      "Saved TRUMP_SPLIT_DATA as .npz\n",
      "(1036,) (1036,) (259,) (259,)\n",
      "Saved OBAMA_SPLIT_DATA as .npz\n"
     ]
    }
   ],
   "source": [
    "compress = Compress()\n",
    "compress.save_as_npz(trump_data, npz_name='TRUMP_SPLIT_DATA')\n",
    "compress.save_as_npz(obama_data, npz_name='OBAMA_SPLIT_DATA')"
   ]
  },
  {
   "cell_type": "code",
   "execution_count": 9,
   "metadata": {},
   "outputs": [
    {
     "name": "stdout",
     "output_type": "stream",
     "text": [
      "china many us thats got going thats treat us really badly many others many many others india tariffs us probably higher nation anywhere world tariffs products much india working called prime minister modi said mr prime minister fair weve got change weve got change weve got change talking seriously talking lot places\n"
     ]
    }
   ],
   "source": [
    "class load_file:\n",
    "    def __init__(self, file):\n",
    "        self.file = file\n",
    "\n",
    "    def get_data(self):\n",
    "        hal = np.load(self.file)\n",
    "        X_train, y_train, X_test, y_test = [hal[f] for f in hal.files]\n",
    "        return X_train, y_train, X_test, y_test\n",
    "\n",
    "\n",
    "df = load_file('dataset_split_transcripts.npz')\n",
    "X_train, y_train, X_test, y_test = df.get_data()\n",
    "# Load split data\n",
    "print(X_train[0])"
   ]
  },
  {
   "cell_type": "code",
   "execution_count": 10,
   "metadata": {},
   "outputs": [
    {
     "name": "stderr",
     "output_type": "stream",
     "text": [
      "Using TensorFlow backend.\n"
     ]
    }
   ],
   "source": [
    "from numpy import array\n",
    "from keras.preprocessing.text import one_hot\n",
    "from keras.preprocessing.sequence import pad_sequences\n",
    "from keras.models import Sequential\n",
    "from keras.layers import Dense\n",
    "from keras.layers import Flatten\n",
    "from keras.layers.embeddings import Embedding"
   ]
  },
  {
   "cell_type": "code",
   "execution_count": 11,
   "metadata": {},
   "outputs": [],
   "source": [
    "\n",
    "vocab_size = 500\n",
    "\n",
    "X_train = [one_hot(d, vocab_size,filters='!\"#$%&()*+,-./:;<=>?@[\\]^_`{|}~',lower=True, split=' ') for d in X_train]\n",
    "X_test = [one_hot(d, vocab_size,filters='!\"#$%&()*+,-./:;<=>?@[\\]^_`{|}~',lower=True, split=' ') for d in X_test]"
   ]
  },
  {
   "cell_type": "code",
   "execution_count": 12,
   "metadata": {},
   "outputs": [],
   "source": [
    "max_length = 25\n",
    "X_train = pad_sequences(X_train, maxlen=max_length, padding='pre')\n",
    "X_test = pad_sequences(X_test, maxlen=max_length, padding='pre')"
   ]
  },
  {
   "cell_type": "code",
   "execution_count": 13,
   "metadata": {},
   "outputs": [
    {
     "data": {
      "text/plain": [
       "array([427, 202, 428, 475,   6, 120, 399, 158, 475,   6, 148, 181, 122,\n",
       "       455, 181, 122, 455, 181, 122, 455, 162, 443, 162, 378,  34],\n",
       "      dtype=int32)"
      ]
     },
     "execution_count": 13,
     "metadata": {},
     "output_type": "execute_result"
    }
   ],
   "source": [
    "model = Sequential()\n",
    "model.add(Embedding(vocab_size, 8, input_length=max_length))\n",
    "model.add(Flatten())\n",
    "model.add(Dense(1, activation='sigmoid'))\n",
    "\n",
    "model.compile(optimizer='adam', loss='binary_crossentropy', metrics=['acc'])\n",
    "\n",
    "print(model.summary())\n",
    "\n",
    "model.fit(X_train, y_train, epochs=20, verbose=0)"
   ]
  },
  {
   "cell_type": "code",
   "execution_count": null,
   "metadata": {},
   "outputs": [],
   "source": [
    "loss, accuracy = model.evaluate(X_train, y_train, verbose=1)\n",
    "print('Training Accuracy is {}'.format(accuracy*100))"
   ]
  }
 ],
 "metadata": {
  "kernelspec": {
   "display_name": "Python 3",
   "language": "python",
   "name": "python3"
  },
  "language_info": {
   "codemirror_mode": {
    "name": "ipython",
    "version": 3
   },
   "file_extension": ".py",
   "mimetype": "text/x-python",
   "name": "python",
   "nbconvert_exporter": "python",
   "pygments_lexer": "ipython3",
   "version": "3.7.6"
  }
 },
 "nbformat": 4,
 "nbformat_minor": 4
}
