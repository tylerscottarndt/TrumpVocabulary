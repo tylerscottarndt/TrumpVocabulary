{
 "cells": [
  {
   "cell_type": "code",
   "execution_count": 7,
   "metadata": {},
   "outputs": [],
   "source": [
    "import pickle\n",
    "trump_data = pickle.load(open(\"TRUMP_SNIPPETS_DF.pickle\", \"rb\" ))\n",
    "obama_data = pickle.load(open(\"OBAMA_SNIPPETS_DF.pickle\", \"rb\" ))"
   ]
  },
  {
   "cell_type": "code",
   "execution_count": 8,
   "metadata": {},
   "outputs": [
    {
     "data": {
      "text/plain": [
       "<matplotlib.axes._subplots.AxesSubplot at 0x7fce541bcc90>"
      ]
     },
     "execution_count": 8,
     "metadata": {},
     "output_type": "execute_result"
    },
    {
     "data": {
      "image/png": "[encoded data removed]",
      "text/plain": [
       "<Figure size 432x288 with 1 Axes>"
      ]
     },
     "metadata": {
      "needs_background": "light"
     },
     "output_type": "display_data"
    }
   ],
   "source": [
    "import seaborn as sns\n",
    "sns.countplot(x='type', data=trump_data)"
   ]
  },
  {
   "cell_type": "code",
   "execution_count": 9,
   "metadata": {},
   "outputs": [
    {
     "data": {
      "text/plain": [
       "<matplotlib.axes._subplots.AxesSubplot at 0x7fce3c701310>"
      ]
     },
     "execution_count": 9,
     "metadata": {},
     "output_type": "execute_result"
    },
    {
     "data": {
      "image/png": "[encoded data removed]",
      "text/plain": [
       "<Figure size 432x288 with 1 Axes>"
      ]
     },
     "metadata": {
      "needs_background": "light"
     },
     "output_type": "display_data"
    }
   ],
   "source": [
    "sns.countplot(x='type', data=obama_data)"
   ]
  },
  {
   "cell_type": "code",
   "execution_count": null,
   "metadata": {},
   "outputs": [],
   "source": [
    "import pandas as pd\n",
    "import pandas as pd\n",
    "import numpy as np\n",
    "import re\n",
    "import nltk\n",
    "from nltk.corpus import stopwords\n",
    "from numpy import array\n",
    "from numpy import asarray\n",
    "from numpy import zeros\n",
    "from numpy import array\n",
    "from keras.preprocessing.text import one_hot\n",
    "from keras.preprocessing.sequence import pad_sequences\n",
    "from keras.models import Sequential\n",
    "from keras.layers.core import Activation, Dropout, Dense\n",
    "from keras.layers import Flatten\n",
    "from keras.layers import GlobalMaxPooling1D\n",
    "from keras.layers.embeddings import Embedding\n",
    "from sklearn.model_selection import train_test_split\n",
    "from keras.preprocessing.text import Tokenizer\n",
    "class Metrics:\n",
    "    def __init__(self, df):\n",
    "        self.df = pd.read_pickle(df)\n",
    "        self.union_speeches = []\n",
    "        self.rally_speeches = []\n",
    "        \n",
    "    def find_avg_word_length(self):\n",
    "        average_res = []\n",
    "        rally = self._get_speeches_list_from_df(self.df,1)\n",
    "        union = self._get_speeches_list_from_df(self.df,0)\n",
    "        self.rally_speeches.append(rally)\n",
    "        self.union_speeches.append(union)\n",
    "        word_count = 0\n",
    "        total_characters = 0\n",
    "        for speech_list in [rally, union]:\n",
    "            for speech in speech_list:\n",
    "                word_count += len(speech.split())\n",
    "                total_characters += len(speech) - speech.count(' ')\n",
    "                \n",
    "            avg_word_length = total_characters / word_count\n",
    "            average_res.append(round(avg_word_length,2))\n",
    "            \n",
    "            \n",
    "        return average_res\n",
    "\n",
    "\n",
    "    def _get_speeches_list_from_df(self, df, attr_val):\n",
    "        df_speeches = df.loc[df['type'] == attr_val]\n",
    "        speeches_list = df_speeches['transcript'].tolist()\n",
    "\n",
    "        return speeches_list"
   ]
  },
  {
   "cell_type": "code",
   "execution_count": null,
   "metadata": {},
   "outputs": [],
   "source": [
    "trump_snippits = Metrics(\"TRUMP_SNIPPETS_DF.pickle\")\n",
    "trump_speeches = Metrics('trump_speeches_df.pickle')\n",
    "obama_speeches = Metrics('obama_speeches_df.pickle')\n",
    "obama_snippits = Metrics('OBAMA_SNIPPETS_DF.pickle')\n",
    "\n",
    "\n",
    "print(trump_snippits.find_avg_word_length(), trump_speeches.find_avg_word_length())\n",
    "print(obama_snippits.find_avg_word_length(), obama_speeches.find_avg_word_length())"
   ]
  },
  {
   "cell_type": "code",
   "execution_count": null,
   "metadata": {},
   "outputs": [],
   "source": [
    ""
   ]
  },
  {
   "cell_type": "code",
   "execution_count": null,
   "metadata": {},
   "outputs": [],
   "source": [
    "import re\n",
    "import nltk\n",
    "from nltk.corpus import stopwords\n",
    "\n",
    "nltk.download('stopwords')\n",
    "from nltk.tokenize import word_tokenize\n",
    "\n",
    "def preprocess_text(sen):\n",
    "    # Remove punctuations and numbers\n",
    "    sentence = re.sub('[^a-zA-Z]', ' ', sen)\n",
    "\n",
    "    # Single character removal\n",
    "    sentence = re.sub(r\"\\s+[a-zA-Z]\\s+\", ' ', sentence)\n",
    "\n",
    "    # Removing multiple spaces\n",
    "    sentence = re.sub(r'\\s+', ' ', sentence)\n",
    "\n",
    "    return sentence"
   ]
  },
  {
   "cell_type": "code",
   "execution_count": null,
   "metadata": {},
   "outputs": [],
   "source": [
    "import numpy as np\n",
    "from sklearn.model_selection import train_test_split\n",
    "from sklearn.model_selection import StratifiedShuffleSplit\n",
    "class Compress:\n",
    "    def save_as_npz(self,df,npz_name=None,tran_data='transcript',label='type'):\n",
    "        X = []\n",
    "        y = np.array(df[label])\n",
    "        sentences = np.array(df[tran_data])\n",
    "        for sen in sentences:\n",
    "            X.append(preprocess_text(sen))\n",
    "                        \n",
    "        self._train_test_split(np.array([X]).T, np.array(y), npz_filename=npz_name)\n",
    "        \n",
    "        \n",
    "\n",
    "    def _train_test_split(self,X,y,npz_filename=''+'.npz',test_size=0.2, random_state=42):\n",
    "        sss = StratifiedShuffleSplit(n_splits=5, test_size=0.5, random_state=0)\n",
    "        sss.get_n_splits(np.array(X), y)\n",
    "        for train_index, test_index in sss.split(X, y):\n",
    "            X_train, X_test = X[train_index], X[test_index]\n",
    "            y_train, y_test = y[train_index], y[test_index]\n",
    "        print(X_train.shape, y_train.shape, X_test.shape, y_test.shape)\n",
    "        tokenizer = Tokenizer(num_words=5000)\n",
    "        tokenizer.fit_on_texts(X_train.ravel())\n",
    "        X_train = tokenizer.texts_to_sequences(X_train.ravel())\n",
    "        X_test = tokenizer.texts_to_sequences(X_test.ravel())\n",
    "        \n",
    "        vocab_size = len(tokenizer.word_index) + 1\n",
    "\n",
    "        maxlen = 100\n",
    "\n",
    "        X_train = pad_sequences(X_train, padding='post', maxlen=maxlen)\n",
    "        X_test = pad_sequences(X_test, padding='post', maxlen=maxlen)\n",
    "        \n",
    "        embeddings_dictionary = dict()\n",
    "        glove_file = open('glove.6B.50d.txt', encoding=\"utf8\")\n",
    "\n",
    "        for line in glove_file:\n",
    "            records = line.split()\n",
    "            word = records[0]\n",
    "            vector_dimensions = asarray(records[1:], dtype='float32')\n",
    "            embeddings_dictionary [word] = vector_dimensions\n",
    "        glove_file.close()\n",
    "        embedding_matrix = zeros((vocab_size, 50))\n",
    "        for word, index in tokenizer.word_index.items():\n",
    "            embedding_vector = embeddings_dictionary.get(word)\n",
    "            if embedding_vector is not None:\n",
    "                embedding_matrix[index] = embedding_vector\n",
    "        \n",
    "        np.savez_compressed(npz_filename,\n",
    "                        X_train=X_train,\n",
    "                        y_train=y_train,\n",
    "                        X_test=X_test,\n",
    "                        y_test=y_test,\n",
    "                        vocab_size=vocab_size, \n",
    "                        embedding_matrix=embedding_matrix)\n",
    "        print(\"Saved {} as .npz\".format(npz_filename))\n",
    "    "
   ]
  },
  {
   "cell_type": "code",
   "execution_count": null,
   "metadata": {},
   "outputs": [],
   "source": [
    "compress = Compress()\n",
    "compress.save_as_npz(trump_data, npz_name='TrumpSplitData')\n",
    "compress.save_as_npz(obama_data, npz_name='ObamaSplitData')"
   ]
  },
  {
   "cell_type": "code",
   "execution_count": 5,
   "metadata": {},
   "outputs": [],
   "source": [
    "import numpy as np\n",
    "class load_file:\n",
    "    def __init__(self, file):\n",
    "        self.file = file\n",
    "\n",
    "    def get_data(self):\n",
    "        hal = np.load(self.file)\n",
    "        X_train, y_train, X_test, y_test,vocab_size, embedding_matrix = [hal[f] for f in hal.files]\n",
    "        return X_train, y_train, X_test, y_test,vocab_size, embedding_matrix\n",
    "\n",
    "\n",
    "df = load_file('ObamaSplitData.npz')\n",
    "X_train, y_train, X_test, y_test,vocab_size, embedding_matrix = df.get_data()"
   ]
  },
  {
   "cell_type": "code",
   "execution_count": null,
   "metadata": {},
   "outputs": [],
   "source": []
  },
  {
   "cell_type": "code",
   "execution_count": 6,
   "metadata": {},
   "outputs": [
    {
     "name": "stdout",
     "output_type": "stream",
     "text": [
      "Model: \"sequential_3\"\n",
      "_________________________________________________________________\n",
      "Layer (type)                 Output Shape              Param #   \n",
      "=================================================================\n",
      "embedding_3 (Embedding)      (None, 100, 50)           312300    \n",
      "_________________________________________________________________\n",
      "dense_17 (Dense)             (None, 100, 64)           3264      \n",
      "_________________________________________________________________\n",
      "dropout_15 (Dropout)         (None, 100, 64)           0         \n",
      "_________________________________________________________________\n",
      "dense_18 (Dense)             (None, 100, 64)           4160      \n",
      "_________________________________________________________________\n",
      "dropout_16 (Dropout)         (None, 100, 64)           0         \n",
      "_________________________________________________________________\n",
      "dense_19 (Dense)             (None, 100, 32)           2080      \n",
      "_________________________________________________________________\n",
      "dropout_17 (Dropout)         (None, 100, 32)           0         \n",
      "_________________________________________________________________\n",
      "dense_20 (Dense)             (None, 100, 64)           2112      \n",
      "_________________________________________________________________\n",
      "dropout_18 (Dropout)         (None, 100, 64)           0         \n",
      "_________________________________________________________________\n",
      "dense_21 (Dense)             (None, 100, 128)          8320      \n",
      "_________________________________________________________________\n",
      "dropout_19 (Dropout)         (None, 100, 128)          0         \n",
      "_________________________________________________________________\n",
      "dense_22 (Dense)             (None, 100, 64)           8256      \n",
      "_________________________________________________________________\n",
      "dropout_20 (Dropout)         (None, 100, 64)           0         \n",
      "_________________________________________________________________\n",
      "flatten_3 (Flatten)          (None, 6400)              0         \n",
      "_________________________________________________________________\n",
      "dropout_21 (Dropout)         (None, 6400)              0         \n",
      "_________________________________________________________________\n",
      "dense_23 (Dense)             (None, 32)                204832    \n",
      "_________________________________________________________________\n",
      "dense_24 (Dense)             (None, 1)                 33        \n",
      "=================================================================\n",
      "Total params: 545,357\n",
      "Trainable params: 545,357\n",
      "Non-trainable params: 0\n",
      "_________________________________________________________________\n",
      "None\n"
     ]
    },
    {
     "name": "stderr",
     "output_type": "stream",
     "text": [
      "/home/daniel/anaconda3/lib/python3.7/site-packages/tensorflow_core/python/framework/indexed_slices.py:433: UserWarning: Converting sparse IndexedSlices to a dense Tensor of unknown shape. This may consume a large amount of memory.\n",
      "  \"Converting sparse IndexedSlices to a dense Tensor of unknown shape. \"\n"
     ]
    },
    {
     "name": "stdout",
     "output_type": "stream",
     "text": [
      "Train on 2013 samples, validate on 2014 samples\n",
      "Epoch 1/200\n",
      "2013/2013 [==============================] - 1s 451us/step - loss: 262.1441 - acc: 0.7109 - val_loss: 127.9799 - val_acc: 0.7324\n",
      "Epoch 2/200\n",
      "2013/2013 [==============================] - 0s 204us/step - loss: 84.1580 - acc: 0.7298 - val_loss: 45.7839 - val_acc: 0.7324\n",
      "Epoch 3/200\n",
      "2013/2013 [==============================] - 0s 194us/step - loss: 34.7174 - acc: 0.7322 - val_loss: 21.5898 - val_acc: 0.7324\n",
      "Epoch 4/200\n",
      "2013/2013 [==============================] - 0s 193us/step - loss: 18.4215 - acc: 0.7322 - val_loss: 12.3863 - val_acc: 0.7324\n",
      "Epoch 5/200\n",
      "2013/2013 [==============================] - 0s 202us/step - loss: 11.4850 - acc: 0.7322 - val_loss: 7.9885 - val_acc: 0.7324\n",
      "Epoch 6/200\n",
      "2013/2013 [==============================] - 0s 200us/step - loss: 7.8690 - acc: 0.7322 - val_loss: 5.6102 - val_acc: 0.7324\n",
      "Epoch 7/200\n",
      "2013/2013 [==============================] - 0s 194us/step - loss: 5.7728 - acc: 0.7322 - val_loss: 4.1647 - val_acc: 0.7324\n",
      "Epoch 8/200\n",
      "2013/2013 [==============================] - 0s 192us/step - loss: 4.4363 - acc: 0.7303 - val_loss: 3.2401 - val_acc: 0.7324\n",
      "Epoch 9/200\n",
      "2013/2013 [==============================] - 0s 189us/step - loss: 3.5405 - acc: 0.7342 - val_loss: 2.6166 - val_acc: 0.7324\n",
      "Epoch 10/200\n",
      "2013/2013 [==============================] - 0s 194us/step - loss: 2.9120 - acc: 0.7412 - val_loss: 2.1900 - val_acc: 0.7324\n",
      "Epoch 11/200\n",
      "2013/2013 [==============================] - 0s 204us/step - loss: 2.4408 - acc: 0.7521 - val_loss: 1.8815 - val_acc: 0.7324\n",
      "Epoch 12/200\n",
      "2013/2013 [==============================] - 0s 188us/step - loss: 2.0894 - acc: 0.7635 - val_loss: 1.6560 - val_acc: 0.7324\n",
      "Epoch 13/200\n",
      "2013/2013 [==============================] - 0s 192us/step - loss: 1.8154 - acc: 0.7685 - val_loss: 1.4477 - val_acc: 0.7354\n",
      "Epoch 14/200\n",
      "2013/2013 [==============================] - 0s 199us/step - loss: 1.5878 - acc: 0.7889 - val_loss: 1.3649 - val_acc: 0.7358\n",
      "Epoch 15/200\n",
      "2013/2013 [==============================] - 0s 197us/step - loss: 1.4066 - acc: 0.7859 - val_loss: 1.2044 - val_acc: 0.7398\n",
      "Epoch 16/200\n",
      "2013/2013 [==============================] - 0s 193us/step - loss: 1.2781 - acc: 0.7869 - val_loss: 1.0582 - val_acc: 0.7473\n",
      "Epoch 17/200\n",
      "2013/2013 [==============================] - 0s 191us/step - loss: 1.1289 - acc: 0.8097 - val_loss: 0.9783 - val_acc: 0.7557\n",
      "Epoch 18/200\n",
      "2013/2013 [==============================] - 0s 205us/step - loss: 1.0305 - acc: 0.8137 - val_loss: 0.9801 - val_acc: 0.7507\n",
      "Epoch 19/200\n",
      "2013/2013 [==============================] - 0s 197us/step - loss: 0.9250 - acc: 0.8351 - val_loss: 0.7919 - val_acc: 0.7890\n",
      "Epoch 20/200\n",
      "2013/2013 [==============================] - 0s 193us/step - loss: 0.8566 - acc: 0.8296 - val_loss: 0.8736 - val_acc: 0.7666\n",
      "Epoch 21/200\n",
      "2013/2013 [==============================] - 0s 190us/step - loss: 0.7743 - acc: 0.8544 - val_loss: 0.7208 - val_acc: 0.7974\n",
      "Epoch 22/200\n",
      "2013/2013 [==============================] - 0s 195us/step - loss: 0.6960 - acc: 0.8669 - val_loss: 0.6941 - val_acc: 0.8039\n",
      "Epoch 23/200\n",
      "2013/2013 [==============================] - 0s 193us/step - loss: 0.6397 - acc: 0.8763 - val_loss: 0.6288 - val_acc: 0.8222\n",
      "Epoch 24/200\n",
      "2013/2013 [==============================] - 0s 199us/step - loss: 0.5780 - acc: 0.8887 - val_loss: 0.6959 - val_acc: 0.8064\n",
      "Epoch 25/200\n",
      "2013/2013 [==============================] - 0s 198us/step - loss: 0.5438 - acc: 0.8967 - val_loss: 0.5553 - val_acc: 0.8476\n",
      "Epoch 26/200\n",
      "2013/2013 [==============================] - 0s 194us/step - loss: 0.4964 - acc: 0.9006 - val_loss: 0.5307 - val_acc: 0.8565\n",
      "Epoch 27/200\n",
      "2013/2013 [==============================] - 0s 191us/step - loss: 0.4564 - acc: 0.9121 - val_loss: 0.6057 - val_acc: 0.8337\n",
      "Epoch 28/200\n",
      "2013/2013 [==============================] - 0s 194us/step - loss: 0.4284 - acc: 0.9136 - val_loss: 0.4810 - val_acc: 0.8630\n",
      "Epoch 29/200\n",
      "2013/2013 [==============================] - 0s 196us/step - loss: 0.3848 - acc: 0.9319 - val_loss: 0.5594 - val_acc: 0.8486\n",
      "Epoch 30/200\n",
      "2013/2013 [==============================] - 0s 196us/step - loss: 0.3555 - acc: 0.9374 - val_loss: 0.5124 - val_acc: 0.8585\n",
      "Epoch 31/200\n",
      "2013/2013 [==============================] - 0s 195us/step - loss: 0.3298 - acc: 0.9364 - val_loss: 0.4455 - val_acc: 0.8729\n",
      "Epoch 32/200\n",
      "2013/2013 [==============================] - 0s 195us/step - loss: 0.3168 - acc: 0.9354 - val_loss: 0.4212 - val_acc: 0.8793\n",
      "Epoch 33/200\n",
      "2013/2013 [==============================] - 0s 192us/step - loss: 0.2867 - acc: 0.9434 - val_loss: 0.4370 - val_acc: 0.8694\n",
      "Epoch 34/200\n",
      "2013/2013 [==============================] - 0s 193us/step - loss: 0.2810 - acc: 0.9434 - val_loss: 0.5006 - val_acc: 0.8570\n",
      "Epoch 35/200\n",
      "2013/2013 [==============================] - 0s 194us/step - loss: 0.2487 - acc: 0.9538 - val_loss: 0.4964 - val_acc: 0.8644\n"
     ]
    },
    {
     "data": {
      "image/png": "[encoded data removed]",
      "text/plain": [
       "<Figure size 432x288 with 1 Axes>"
      ]
     },
     "metadata": {
      "needs_background": "light"
     },
     "output_type": "display_data"
    },
    {
     "data": {
      "image/png": "[encoded data removed]",
      "text/plain": [
       "<Figure size 432x288 with 1 Axes>"
      ]
     },
     "metadata": {
      "needs_background": "light"
     },
     "output_type": "display_data"
    },
    {
     "name": "stdout",
     "output_type": "stream",
     "text": [
      "2013/2013 [==============================] - 0s 73us/step\n",
      "Training Accuracy is 98.11227321624756\n",
      "2014/2014 [==============================] - 0s 75us/step\n",
      "Testing Accuracy is 86.44488453865051 \n"
     ]
    }
   ],
   "source": [
    "from keras.preprocessing.text import one_hot\n",
    "from keras.preprocessing.sequence import pad_sequences\n",
    "from keras.models import Sequential\n",
    "from keras.layers.core import Activation, Dropout, Dense\n",
    "from keras.layers import Flatten\n",
    "from keras.layers import GlobalMaxPooling1D\n",
    "from keras.layers.embeddings import Embedding\n",
    "from sklearn.model_selection import train_test_split\n",
    "from keras.preprocessing.text import Tokenizer\n",
    "from keras.layers import Dense\n",
    "from keras.constraints import max_norm\n",
    "from keras.regularizers import l1,l2\n",
    "from keras import optimizers\n",
    "import keras\n",
    "maxlen = 100\n",
    "model = Sequential()\n",
    "embedding_layer = Embedding(vocab_size, 50, weights=[embedding_matrix], input_length=maxlen)\n",
    "model.add(embedding_layer)\n",
    "model.add(Dense(64, activity_regularizer=l2(0.01), activation='relu'))\n",
    "model.add(Dropout(0.4))\n",
    "\n",
    "\n",
    "model.add(Dense(64, activation='relu'))\n",
    "model.add(Dropout(0.6))\n",
    "\n",
    "\n",
    "\n",
    "model.add(Dense(32, activation='relu'))\n",
    "model.add(Dropout(0.6))\n",
    "\n",
    "\n",
    "\n",
    "model.add(Dense(64, activation='relu'))\n",
    "model.add(Dropout(0.6))\n",
    "\n",
    "\n",
    "\n",
    "model.add(Dense(128, activation='relu'))\n",
    "model.add(Dropout(0.6))\n",
    "\n",
    "\n",
    "\n",
    "\n",
    "model.add(Dense(64, activation='relu'))\n",
    "model.add(Dropout(0.6))\n",
    "\n",
    "\n",
    "\n",
    "model.add(Flatten())\n",
    "model.add(Dropout(0.6))\n",
    "model.add(Dense(32,activation='relu'))\n",
    "\n",
    "model.add(Dense(1,activation='sigmoid'))\n",
    "model.compile(optimizer=optimizers.adam(), loss='binary_crossentropy', metrics=['acc'])\n",
    "es_callback = keras.callbacks.EarlyStopping(monitor='val_loss', patience=3)\n",
    "print(model.summary())\n",
    "history = model.fit(X_train, y_train, batch_size=64, epochs=200, validation_data=(X_test, y_test), callbacks=[es_callback])\n",
    "\n",
    "\n",
    "import matplotlib.pyplot as plt\n",
    "plt.plot(history.history['acc'])\n",
    "plt.plot(history.history['val_acc'])\n",
    "plt.title('model accuracy')\n",
    "plt.ylabel('accuracy')\n",
    "plt.xlabel('epoch')\n",
    "plt.legend(['train','test'], loc='upper left')\n",
    "plt.show()\n",
    "\n",
    "plt.plot(history.history['loss'])\n",
    "plt.plot(history.history['val_loss'])\n",
    "\n",
    "plt.title('model loss')\n",
    "plt.ylabel('loss')\n",
    "plt.xlabel('epoch')\n",
    "plt.legend(['train','test'], loc='upper left')\n",
    "plt.show()\n",
    "loss, accuracy = model.evaluate(X_train, y_train, verbose=1)\n",
    "print('Training Accuracy is {}'.format(accuracy*100))\n",
    "\n",
    "loss, accuracy = model.evaluate(X_test,y_test)\n",
    "\n",
    "\n",
    "print('Testing Accuracy is {} '.format(accuracy*100))"
   ]
  },
  {
   "cell_type": "code",
   "execution_count": null,
   "metadata": {},
   "outputs": [],
   "source": []
  },
  {
   "cell_type": "code",
   "execution_count": null,
   "metadata": {},
   "outputs": [],
   "source": []
  },
  {
   "cell_type": "code",
   "execution_count": null,
   "metadata": {},
   "outputs": [],
   "source": []
  },
  {
   "cell_type": "code",
   "execution_count": null,
   "metadata": {},
   "outputs": [],
   "source": []
  }
 ],
 "metadata": {
  "kernelspec": {
   "display_name": "Python 3",
   "language": "python",
   "name": "python3"
  },
  "language_info": {
   "codemirror_mode": {
    "name": "ipython",
    "version": 3
   },
   "file_extension": ".py",
   "mimetype": "text/x-python",
   "name": "python",
   "nbconvert_exporter": "python",
   "pygments_lexer": "ipython3",
   "version": "3.7.6"
  }
 },
 "nbformat": 4,
 "nbformat_minor": 4
}
