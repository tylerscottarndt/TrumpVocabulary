{
 "cells": [
  {
   "cell_type": "code",
   "execution_count": 1,
   "metadata": {},
   "outputs": [],
   "source": [
    "import pandas as pd\n",
    "import pickle\n",
    "class Metrics:\n",
    "    def __init__(self, df):\n",
    "        self.df = pd.read_pickle(df)\n",
    "        self.union_speeches = []\n",
    "        self.rally_speeches = []\n",
    "        \n",
    "    def find_avg_word_length(self):\n",
    "        average_res = []\n",
    "        rally = self._get_speeches_list_from_df(self.df,1)\n",
    "        union = self._get_speeches_list_from_df(self.df,0)\n",
    "        self.rally_speeches.append(rally)\n",
    "        self.union_speeches.append(union)\n",
    "        word_count = 0\n",
    "        total_characters = 0\n",
    "        for speech_list in [rally, union]:\n",
    "            for speech in speech_list:\n",
    "                word_count += len(speech.split())\n",
    "                total_characters += len(speech) - speech.count(' ')\n",
    "                \n",
    "            avg_word_length = total_characters / word_count\n",
    "            average_res.append(round(avg_word_length,2))\n",
    "            \n",
    "            \n",
    "        return average_res\n",
    "\n",
    "\n",
    "    def _get_speeches_list_from_df(self, df, attr_val):\n",
    "        df_speeches = df.loc[df['type'] == attr_val]\n",
    "        speeches_list = df_speeches['transcript'].tolist()\n",
    "\n",
    "        return speeches_list"
   ]
  },
  {
   "cell_type": "code",
   "execution_count": 2,
   "metadata": {},
   "outputs": [
    {
     "name": "stderr",
     "output_type": "stream",
     "text": [
      "[nltk_data] Downloading package stopwords to /home/daniel/nltk_data...\n",
      "[nltk_data]   Package stopwords is already up-to-date!\n"
     ]
    }
   ],
   "source": [
    "import re\n",
    "import nltk\n",
    "from nltk.corpus import stopwords\n",
    "\n",
    "nltk.download('stopwords')\n",
    "from nltk.tokenize import word_tokenize\n",
    "\n",
    "def preprocess_text(sen):\n",
    "    # Remove punctuations and numbers\n",
    "    sentence = re.sub('[^a-zA-Z]', ' ', sen)\n",
    "\n",
    "    # Single character removal\n",
    "    sentence = re.sub(r\"\\s+[a-zA-Z]\\s+\", ' ', sentence)\n",
    "\n",
    "    # Removing multiple spaces\n",
    "    sentence = re.sub(r'\\s+', ' ', sentence)\n",
    "\n",
    "    return sentence"
   ]
  },
  {
   "cell_type": "code",
   "execution_count": 3,
   "metadata": {},
   "outputs": [],
   "source": [
    "import numpy as np\n",
    "from sklearn.model_selection import train_test_split\n",
    "\n",
    "class Compress:\n",
    "    def save_as_npz(self,df,npz_name=None,tran_data='transcript',label='type'):\n",
    "        X = []\n",
    "        y = np.array(df[label])\n",
    "        sentences = np.array(df[tran_data])\n",
    "        for sen in sentences:\n",
    "            X.append(preprocess_text(sen))\n",
    "        self._train_test_split(np.array(X), np.array(y), npz_filename=npz_name)\n",
    "        \n",
    "        \n",
    "\n",
    "    def _train_test_split(self,X,y,npz_filename=''+'.npz',test_size=0.2, random_state=42):\n",
    "        X_train, X_test, y_train, y_test = train_test_split(X, y, test_size=test_size, random_state=random_state)\n",
    "        print(X_train.shape, y_train.shape, X_test.shape, y_test.shape)\n",
    "        np.savez_compressed(npz_filename,\n",
    "                        X_train=X_train,\n",
    "                        y_train=y_train,\n",
    "                        X_test=X_test,\n",
    "                        y_test=y_test)\n",
    "        print(\"Saved {} as .npz\".format(npz_filename))\n",
    "    "
   ]
  },
  {
   "cell_type": "code",
   "execution_count": 4,
   "metadata": {},
   "outputs": [
    {
     "name": "stdout",
     "output_type": "stream",
     "text": [
      "[5.58, 5.67] [4.25, 4.31]\n",
      "[5.79, 6.04] [4.3, 4.53]\n"
     ]
    }
   ],
   "source": [
    "trump_snippits = Metrics(\"TRUMP_SNIPPETS_DF.pickle\")\n",
    "trump_speeches = Metrics('trump_speeches_df.pickle')\n",
    "obama_speeches = Metrics('obama_speeches_df.pickle')\n",
    "obama_snippits = Metrics('OBAMA_SNIPPETS_DF.pickle')\n",
    "\n",
    "\n",
    "print(trump_snippits.find_avg_word_length(), trump_speeches.find_avg_word_length())\n",
    "print(obama_snippits.find_avg_word_length(), obama_speeches.find_avg_word_length())"
   ]
  },
  {
   "cell_type": "code",
   "execution_count": 5,
   "metadata": {},
   "outputs": [],
   "source": [
    "trump_data = pickle.load(open(\"TRUMP_SNIPPETS_DF.pickle\", \"rb\" ))\n",
    "obama_data = pickle.load(open(\"OBAMA_SNIPPETS_DF.pickle\", \"rb\" ))"
   ]
  },
  {
   "cell_type": "code",
   "execution_count": 6,
   "metadata": {},
   "outputs": [
    {
     "data": {
      "text/plain": [
       "<matplotlib.axes._subplots.AxesSubplot at 0x7f852aa27f50>"
      ]
     },
     "execution_count": 6,
     "metadata": {},
     "output_type": "execute_result"
    },
    {
     "data": {
      "image/png": "[encoded data removed]",
      "text/plain": [
       "<Figure size 432x288 with 1 Axes>"
      ]
     },
     "metadata": {
      "needs_background": "light"
     },
     "output_type": "display_data"
    }
   ],
   "source": [
    "import seaborn as sns\n",
    "sns.countplot(x='type', data=trump_data)"
   ]
  },
  {
   "cell_type": "code",
   "execution_count": 7,
   "metadata": {
    "scrolled": false
   },
   "outputs": [
    {
     "data": {
      "text/plain": [
       "<matplotlib.axes._subplots.AxesSubplot at 0x7f852a16f210>"
      ]
     },
     "execution_count": 7,
     "metadata": {},
     "output_type": "execute_result"
    },
    {
     "data": {
      "image/png": "[encoded data removed]",
      "text/plain": [
       "<Figure size 432x288 with 1 Axes>"
      ]
     },
     "metadata": {
      "needs_background": "light"
     },
     "output_type": "display_data"
    }
   ],
   "source": [
    "sns.countplot(x='type', data=obama_data)"
   ]
  },
  {
   "cell_type": "code",
   "execution_count": 8,
   "metadata": {},
   "outputs": [
    {
     "name": "stdout",
     "output_type": "stream",
     "text": [
      "(1941,) (1941,) (486,) (486,)\n",
      "Saved TRUMP_SPLIT_DATA as .npz\n",
      "(1036,) (1036,) (259,) (259,)\n",
      "Saved OBAMA_SPLIT_DATA as .npz\n"
     ]
    }
   ],
   "source": [
    "compress = Compress()\n",
    "compress.save_as_npz(trump_data, npz_name='TRUMP_SPLIT_DATA')\n",
    "compress.save_as_npz(obama_data, npz_name='OBAMA_SPLIT_DATA')"
   ]
  },
  {
   "cell_type": "code",
   "execution_count": 9,
   "metadata": {},
   "outputs": [
    {
     "name": "stdout",
     "output_type": "stream",
     "text": [
      "china many us thats got going thats treat us really badly many others many many others india tariffs us probably higher nation anywhere world tariffs products much india working called prime minister modi said mr prime minister fair weve got change weve got change weve got change talking seriously talking lot places\n"
     ]
    }
   ],
   "source": [
    "class load_file:\n",
    "    def __init__(self, file):\n",
    "        self.file = file\n",
    "\n",
    "    def get_data(self):\n",
    "        hal = np.load(self.file)\n",
    "        X_train, y_train, X_test, y_test = [hal[f] for f in hal.files]\n",
    "        return X_train, y_train, X_test, y_test\n",
    "\n",
    "\n",
    "df = load_file('dataset_split_transcripts.npz')\n",
    "X_train, y_train, X_test, y_test = df.get_data()\n",
    "# Load split data\n",
    "print(X_train[0])"
   ]
  },
  {
   "cell_type": "code",
   "execution_count": 10,
   "metadata": {},
   "outputs": [
    {
     "name": "stderr",
     "output_type": "stream",
     "text": [
      "Using TensorFlow backend.\n"
     ]
    }
   ],
   "source": [
    "from numpy import array\n",
    "from keras.preprocessing.text import one_hot\n",
    "from keras.preprocessing.sequence import pad_sequences\n",
    "from keras.models import Sequential\n",
    "from keras.layers import Dense\n",
    "from keras.layers import Flatten\n",
    "from keras.layers.embeddings import Embedding"
   ]
  },
  {
   "cell_type": "code",
   "execution_count": 11,
   "metadata": {},
   "outputs": [],
   "source": [
    "\n",
    "vocab_size = 500\n",
    "\n",
    "X_train = [one_hot(d, vocab_size,filters='!\"#$%&()*+,-./:;<=>?@[\\]^_`{|}~',lower=True, split=' ') for d in X_train]\n",
    "X_test = [one_hot(d, vocab_size,filters='!\"#$%&()*+,-./:;<=>?@[\\]^_`{|}~',lower=True, split=' ') for d in X_test]"
   ]
  },
  {
   "cell_type": "code",
   "execution_count": 12,
   "metadata": {},
   "outputs": [],
   "source": [
    "max_length = 25\n",
    "X_train = pad_sequences(X_train, maxlen=max_length, padding='pre')\n",
    "X_test = pad_sequences(X_test, maxlen=max_length, padding='pre')"
   ]
  },
  {
   "cell_type": "code",
   "execution_count": 13,
   "metadata": {},
   "outputs": [
    {
     "name": "stdout",
     "output_type": "stream",
     "text": [
      "Model: \"sequential_1\"\n",
      "_________________________________________________________________\n",
      "Layer (type)                 Output Shape              Param #   \n",
      "=================================================================\n",
      "embedding_1 (Embedding)      (None, 25, 8)             4000      \n",
      "_________________________________________________________________\n",
      "flatten_1 (Flatten)          (None, 200)               0         \n",
      "_________________________________________________________________\n",
      "dense_1 (Dense)              (None, 1)                 201       \n",
      "=================================================================\n",
      "Total params: 4,201\n",
      "Trainable params: 4,201\n",
      "Non-trainable params: 0\n",
      "_________________________________________________________________\n",
      "None\n",
      "Train on 1559 samples, validate on 390 samples\n",
      "Epoch 1/50\n"
     ]
    },
    {
     "name": "stderr",
     "output_type": "stream",
     "text": [
      "/home/daniel/anaconda3/lib/python3.7/site-packages/tensorflow_core/python/framework/indexed_slices.py:433: UserWarning: Converting sparse IndexedSlices to a dense Tensor of unknown shape. This may consume a large amount of memory.\n",
      "  \"Converting sparse IndexedSlices to a dense Tensor of unknown shape. \"\n"
     ]
    },
    {
     "name": "stdout",
     "output_type": "stream",
     "text": [
      "1559/1559 [==============================] - 1s 482us/step - loss: 0.6605 - acc: 0.7877 - val_loss: 0.6157 - val_acc: 0.8385\n",
      "Epoch 2/50\n",
      "1559/1559 [==============================] - 0s 128us/step - loss: 0.5147 - acc: 0.8640 - val_loss: 0.4470 - val_acc: 0.8385\n",
      "Epoch 3/50\n",
      "1559/1559 [==============================] - 0s 128us/step - loss: 0.3624 - acc: 0.8640 - val_loss: 0.3770 - val_acc: 0.8385\n",
      "Epoch 4/50\n",
      "1559/1559 [==============================] - 0s 125us/step - loss: 0.3103 - acc: 0.8640 - val_loss: 0.3542 - val_acc: 0.8385\n",
      "Epoch 5/50\n",
      "1559/1559 [==============================] - 0s 129us/step - loss: 0.2813 - acc: 0.8640 - val_loss: 0.3329 - val_acc: 0.8385\n",
      "Epoch 6/50\n",
      "1559/1559 [==============================] - 0s 137us/step - loss: 0.2538 - acc: 0.8672 - val_loss: 0.3123 - val_acc: 0.8436\n",
      "Epoch 7/50\n",
      "1559/1559 [==============================] - 0s 125us/step - loss: 0.2277 - acc: 0.8781 - val_loss: 0.2936 - val_acc: 0.8513\n",
      "Epoch 8/50\n",
      "1559/1559 [==============================] - 0s 137us/step - loss: 0.2037 - acc: 0.8980 - val_loss: 0.2780 - val_acc: 0.8590\n",
      "Epoch 9/50\n",
      "1559/1559 [==============================] - 0s 131us/step - loss: 0.1819 - acc: 0.9192 - val_loss: 0.2647 - val_acc: 0.8718\n",
      "Epoch 10/50\n",
      "1559/1559 [==============================] - 0s 127us/step - loss: 0.1632 - acc: 0.9365 - val_loss: 0.2547 - val_acc: 0.8795\n",
      "Epoch 11/50\n",
      "1559/1559 [==============================] - 0s 128us/step - loss: 0.1473 - acc: 0.9545 - val_loss: 0.2491 - val_acc: 0.8897\n",
      "Epoch 12/50\n",
      "1559/1559 [==============================] - 0s 128us/step - loss: 0.1337 - acc: 0.9615 - val_loss: 0.2450 - val_acc: 0.8949\n",
      "Epoch 13/50\n",
      "1559/1559 [==============================] - 0s 125us/step - loss: 0.1218 - acc: 0.9641 - val_loss: 0.2432 - val_acc: 0.8974\n",
      "Epoch 14/50\n",
      "1559/1559 [==============================] - 0s 141us/step - loss: 0.1112 - acc: 0.9686 - val_loss: 0.2425 - val_acc: 0.8974\n",
      "Epoch 15/50\n",
      "1559/1559 [==============================] - 0s 132us/step - loss: 0.1018 - acc: 0.9763 - val_loss: 0.2428 - val_acc: 0.8897\n",
      "Epoch 16/50\n",
      "1559/1559 [==============================] - 0s 129us/step - loss: 0.0934 - acc: 0.9788 - val_loss: 0.2451 - val_acc: 0.8872\n",
      "Epoch 17/50\n",
      "1559/1559 [==============================] - 0s 139us/step - loss: 0.0856 - acc: 0.9795 - val_loss: 0.2473 - val_acc: 0.8846\n",
      "Epoch 18/50\n",
      "1559/1559 [==============================] - 0s 126us/step - loss: 0.0782 - acc: 0.9833 - val_loss: 0.2497 - val_acc: 0.8769\n",
      "Epoch 19/50\n",
      "1559/1559 [==============================] - 0s 140us/step - loss: 0.0716 - acc: 0.9872 - val_loss: 0.2534 - val_acc: 0.8795\n",
      "Epoch 20/50\n",
      "1559/1559 [==============================] - 0s 130us/step - loss: 0.0656 - acc: 0.9878 - val_loss: 0.2580 - val_acc: 0.8769\n",
      "Epoch 21/50\n",
      "1559/1559 [==============================] - 0s 135us/step - loss: 0.0602 - acc: 0.9891 - val_loss: 0.2612 - val_acc: 0.8795\n",
      "Epoch 22/50\n",
      "1559/1559 [==============================] - 0s 133us/step - loss: 0.0551 - acc: 0.9936 - val_loss: 0.2661 - val_acc: 0.8795\n",
      "Epoch 23/50\n",
      "1559/1559 [==============================] - 0s 128us/step - loss: 0.0506 - acc: 0.9968 - val_loss: 0.2713 - val_acc: 0.8795\n",
      "Epoch 24/50\n",
      "1559/1559 [==============================] - 0s 124us/step - loss: 0.0463 - acc: 0.9968 - val_loss: 0.2755 - val_acc: 0.8744\n",
      "Epoch 25/50\n",
      "1559/1559 [==============================] - 0s 126us/step - loss: 0.0423 - acc: 0.9974 - val_loss: 0.2805 - val_acc: 0.8769\n",
      "Epoch 26/50\n",
      "1559/1559 [==============================] - 0s 137us/step - loss: 0.0388 - acc: 0.9994 - val_loss: 0.2856 - val_acc: 0.8769\n",
      "Epoch 27/50\n",
      "1559/1559 [==============================] - 0s 137us/step - loss: 0.0357 - acc: 0.9994 - val_loss: 0.2909 - val_acc: 0.8769\n",
      "Epoch 28/50\n",
      "1559/1559 [==============================] - 0s 130us/step - loss: 0.0328 - acc: 0.9994 - val_loss: 0.2958 - val_acc: 0.8769\n",
      "Epoch 29/50\n",
      "1559/1559 [==============================] - 0s 127us/step - loss: 0.0303 - acc: 0.9994 - val_loss: 0.3008 - val_acc: 0.8769\n",
      "Epoch 30/50\n",
      "1559/1559 [==============================] - 0s 125us/step - loss: 0.0278 - acc: 1.0000 - val_loss: 0.3052 - val_acc: 0.8744\n",
      "Epoch 31/50\n",
      "1559/1559 [==============================] - 0s 124us/step - loss: 0.0257 - acc: 1.0000 - val_loss: 0.3102 - val_acc: 0.8744\n",
      "Epoch 32/50\n",
      "1559/1559 [==============================] - 0s 123us/step - loss: 0.0238 - acc: 1.0000 - val_loss: 0.3135 - val_acc: 0.8744\n",
      "Epoch 33/50\n",
      "1559/1559 [==============================] - 0s 132us/step - loss: 0.0219 - acc: 1.0000 - val_loss: 0.3197 - val_acc: 0.8744\n",
      "Epoch 34/50\n",
      "1559/1559 [==============================] - 0s 130us/step - loss: 0.0203 - acc: 1.0000 - val_loss: 0.3245 - val_acc: 0.8744\n",
      "Epoch 35/50\n",
      "1559/1559 [==============================] - 0s 131us/step - loss: 0.0188 - acc: 1.0000 - val_loss: 0.3293 - val_acc: 0.8718\n",
      "Epoch 36/50\n",
      "1559/1559 [==============================] - 0s 129us/step - loss: 0.0175 - acc: 1.0000 - val_loss: 0.3338 - val_acc: 0.8718\n",
      "Epoch 37/50\n",
      "1559/1559 [==============================] - 0s 126us/step - loss: 0.0162 - acc: 1.0000 - val_loss: 0.3384 - val_acc: 0.8718\n",
      "Epoch 38/50\n",
      "1559/1559 [==============================] - 0s 129us/step - loss: 0.0151 - acc: 1.0000 - val_loss: 0.3425 - val_acc: 0.8692\n",
      "Epoch 39/50\n",
      "1559/1559 [==============================] - 0s 131us/step - loss: 0.0141 - acc: 1.0000 - val_loss: 0.3474 - val_acc: 0.8718\n",
      "Epoch 40/50\n",
      "1559/1559 [==============================] - 0s 139us/step - loss: 0.0131 - acc: 1.0000 - val_loss: 0.3508 - val_acc: 0.8718\n",
      "Epoch 41/50\n",
      "1559/1559 [==============================] - 0s 134us/step - loss: 0.0123 - acc: 1.0000 - val_loss: 0.3555 - val_acc: 0.8718\n",
      "Epoch 42/50\n",
      "1559/1559 [==============================] - 0s 128us/step - loss: 0.0115 - acc: 1.0000 - val_loss: 0.3602 - val_acc: 0.8744\n",
      "Epoch 43/50\n",
      "1559/1559 [==============================] - 0s 127us/step - loss: 0.0108 - acc: 1.0000 - val_loss: 0.3640 - val_acc: 0.8744\n",
      "Epoch 44/50\n",
      "1559/1559 [==============================] - 0s 125us/step - loss: 0.0101 - acc: 1.0000 - val_loss: 0.3676 - val_acc: 0.8744\n",
      "Epoch 45/50\n",
      "1559/1559 [==============================] - 0s 128us/step - loss: 0.0095 - acc: 1.0000 - val_loss: 0.3722 - val_acc: 0.8744\n",
      "Epoch 46/50\n",
      "1559/1559 [==============================] - 0s 131us/step - loss: 0.0089 - acc: 1.0000 - val_loss: 0.3764 - val_acc: 0.8744\n",
      "Epoch 47/50\n",
      "1559/1559 [==============================] - 0s 127us/step - loss: 0.0084 - acc: 1.0000 - val_loss: 0.3800 - val_acc: 0.8744\n",
      "Epoch 48/50\n",
      "1559/1559 [==============================] - 0s 128us/step - loss: 0.0079 - acc: 1.0000 - val_loss: 0.3833 - val_acc: 0.8744\n",
      "Epoch 49/50\n",
      "1559/1559 [==============================] - 0s 131us/step - loss: 0.0074 - acc: 1.0000 - val_loss: 0.3870 - val_acc: 0.8744\n",
      "Epoch 50/50\n",
      "1559/1559 [==============================] - 0s 126us/step - loss: 0.0070 - acc: 1.0000 - val_loss: 0.3912 - val_acc: 0.8744\n"
     ]
    },
    {
     "data": {
      "text/plain": [
       "<keras.callbacks.callbacks.History at 0x7f84d35606d0>"
      ]
     },
     "execution_count": 13,
     "metadata": {},
     "output_type": "execute_result"
    }
   ],
   "source": [
    "model = Sequential()\n",
    "model.add(Embedding(vocab_size, 8, input_length=max_length))\n",
    "model.add(Flatten())\n",
    "model.add(Dense(1, activation='sigmoid'))\n",
    "\n",
    "model.compile(optimizer='adam', loss='binary_crossentropy', metrics=['acc'])\n",
    "\n",
    "print(model.summary())\n",
    "\n",
    "model.fit(X_train, y_train, epochs=50, validation_split=.2)"
   ]
  },
  {
   "cell_type": "code",
   "execution_count": 14,
   "metadata": {},
   "outputs": [
    {
     "name": "stdout",
     "output_type": "stream",
     "text": [
      "1949/1949 [==============================] - 0s 54us/step\n",
      "Training Accuracy is 97.48588800430298\n"
     ]
    }
   ],
   "source": [
    "loss, accuracy = model.evaluate(X_train, y_train, verbose=1)\n",
    "print('Training Accuracy is {}'.format(accuracy*100))"
   ]
  },
  {
   "cell_type": "code",
   "execution_count": 15,
   "metadata": {},
   "outputs": [
    {
     "name": "stdout",
     "output_type": "stream",
     "text": [
      "488/488 [==============================] - 0s 51us/step\n",
      "Testing Accuracy is 90.77869057655334 \n"
     ]
    }
   ],
   "source": [
    "loss, accuracy = model.evaluate(X_test,y_test)\n",
    "print('Testing Accuracy is {} '.format(accuracy*100))"
   ]
  }
 ],
 "metadata": {
  "kernelspec": {
   "display_name": "Python 3",
   "language": "python",
   "name": "python3"
  },
  "language_info": {
   "codemirror_mode": {
    "name": "ipython",
    "version": 3
   },
   "file_extension": ".py",
   "mimetype": "text/x-python",
   "name": "python",
   "nbconvert_exporter": "python",
   "pygments_lexer": "ipython3",
   "version": "3.7.6"
  }
 },
 "nbformat": 4,
 "nbformat_minor": 4
}
