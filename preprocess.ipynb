{
 "cells": [
  {
   "cell_type": "code",
   "execution_count": 1,
   "metadata": {},
   "outputs": [],
   "source": [
    "import pickle\n",
    "trump_data = pickle.load(open(\"TRUMP_SNIPPETS_DF.pickle\", \"rb\" ))\n",
    "obama_data = pickle.load(open(\"OBAMA_SNIPPETS_DF.pickle\", \"rb\" ))"
   ]
  },
  {
   "cell_type": "code",
   "execution_count": 2,
   "metadata": {},
   "outputs": [
    {
     "data": {
      "text/plain": [
       "<matplotlib.axes._subplots.AxesSubplot at 0x7f619ccf98d0>"
      ]
     },
     "execution_count": 2,
     "metadata": {},
     "output_type": "execute_result"
    },
    {
     "data": {
      "image/png": "[encoded data removed]",
      "text/plain": [
       "<Figure size 432x288 with 1 Axes>"
      ]
     },
     "metadata": {
      "needs_background": "light"
     },
     "output_type": "display_data"
    }
   ],
   "source": [
    "import seaborn as sns\n",
    "sns.countplot(x='type', data=trump_data)"
   ]
  },
  {
   "cell_type": "code",
   "execution_count": 3,
   "metadata": {},
   "outputs": [
    {
     "data": {
      "text/plain": [
       "<matplotlib.axes._subplots.AxesSubplot at 0x7f619c4a6090>"
      ]
     },
     "execution_count": 3,
     "metadata": {},
     "output_type": "execute_result"
    },
    {
     "data": {
      "image/png": "[encoded data removed]",
      "text/plain": [
       "<Figure size 432x288 with 1 Axes>"
      ]
     },
     "metadata": {
      "needs_background": "light"
     },
     "output_type": "display_data"
    }
   ],
   "source": [
    "sns.countplot(x='type', data=obama_data)"
   ]
  },
  {
   "cell_type": "code",
   "execution_count": 4,
   "metadata": {},
   "outputs": [
    {
     "name": "stderr",
     "output_type": "stream",
     "text": [
      "Using TensorFlow backend.\n"
     ]
    }
   ],
   "source": [
    "import pandas as pd\n",
    "import pandas as pd\n",
    "import numpy as np\n",
    "import re\n",
    "import nltk\n",
    "from nltk.corpus import stopwords\n",
    "from numpy import array\n",
    "from numpy import asarray\n",
    "from numpy import zeros\n",
    "from numpy import array\n",
    "from keras.preprocessing.text import one_hot\n",
    "from keras.preprocessing.sequence import pad_sequences\n",
    "from keras.models import Sequential\n",
    "from keras.layers.core import Activation, Dropout, Dense\n",
    "from keras.layers import Flatten\n",
    "from keras.layers import GlobalMaxPooling1D\n",
    "from keras.layers.embeddings import Embedding\n",
    "from sklearn.model_selection import train_test_split\n",
    "from keras.preprocessing.text import Tokenizer\n",
    "class Metrics:\n",
    "    def __init__(self, df):\n",
    "        self.df = pd.read_pickle(df)\n",
    "        self.union_speeches = []\n",
    "        self.rally_speeches = []\n",
    "        \n",
    "    def find_avg_word_length(self):\n",
    "        average_res = []\n",
    "        rally = self._get_speeches_list_from_df(self.df,1)\n",
    "        union = self._get_speeches_list_from_df(self.df,0)\n",
    "        self.rally_speeches.append(rally)\n",
    "        self.union_speeches.append(union)\n",
    "        word_count = 0\n",
    "        total_characters = 0\n",
    "        for speech_list in [rally, union]:\n",
    "            for speech in speech_list:\n",
    "                word_count += len(speech.split())\n",
    "                total_characters += len(speech) - speech.count(' ')\n",
    "                \n",
    "            avg_word_length = total_characters / word_count\n",
    "            average_res.append(round(avg_word_length,2))\n",
    "            \n",
    "            \n",
    "        return average_res\n",
    "\n",
    "\n",
    "    def _get_speeches_list_from_df(self, df, attr_val):\n",
    "        df_speeches = df.loc[df['type'] == attr_val]\n",
    "        speeches_list = df_speeches['transcript'].tolist()\n",
    "\n",
    "        return speeches_list"
   ]
  },
  {
   "cell_type": "code",
   "execution_count": 5,
   "metadata": {},
   "outputs": [
    {
     "name": "stdout",
     "output_type": "stream",
     "text": [
      "[5.57, 5.77] [4.25, 4.31]\n",
      "[5.67, 5.9] [4.24, 4.33]\n"
     ]
    }
   ],
   "source": [
    "trump_snippits = Metrics(\"TRUMP_SNIPPETS_DF.pickle\")\n",
    "trump_speeches = Metrics('trump_speeches_df.pickle')\n",
    "obama_speeches = Metrics('obama_speeches_df.pickle')\n",
    "obama_snippits = Metrics('OBAMA_SNIPPETS_DF.pickle')\n",
    "\n",
    "\n",
    "print(trump_snippits.find_avg_word_length(), trump_speeches.find_avg_word_length())\n",
    "print(obama_snippits.find_avg_word_length(), obama_speeches.find_avg_word_length())"
   ]
  },
  {
   "cell_type": "code",
   "execution_count": null,
   "metadata": {},
   "outputs": [],
   "source": [
    ""
   ]
  },
  {
   "cell_type": "code",
   "execution_count": 6,
   "metadata": {},
   "outputs": [
    {
     "name": "stderr",
     "output_type": "stream",
     "text": [
      "[nltk_data] Downloading package stopwords to /home/daniel/nltk_data...\n",
      "[nltk_data]   Package stopwords is already up-to-date!\n"
     ]
    }
   ],
   "source": [
    "import re\n",
    "import nltk\n",
    "from nltk.corpus import stopwords\n",
    "\n",
    "nltk.download('stopwords')\n",
    "from nltk.tokenize import word_tokenize\n",
    "\n",
    "def preprocess_text(sen):\n",
    "    # Remove punctuations and numbers\n",
    "    sentence = re.sub('[^a-zA-Z]', ' ', sen)\n",
    "\n",
    "    # Single character removal\n",
    "    sentence = re.sub(r\"\\s+[a-zA-Z]\\s+\", ' ', sentence)\n",
    "    # Removing multiple spaces\n",
    "    sentence = re.sub(r'\\s+', ' ', sentence)\n",
    "\n",
    "    return sentence"
   ]
  },
  {
   "cell_type": "code",
   "execution_count": 7,
   "metadata": {},
   "outputs": [],
   "source": [
    "import numpy as np\n",
    "from sklearn.model_selection import train_test_split\n",
    "from sklearn.model_selection import StratifiedShuffleSplit\n",
    "class Compress:\n",
    "    def save_as_npz(self,df,npz_name=None,tran_data='transcript',label='type'):\n",
    "        X = []\n",
    "        y = np.array(df[label])\n",
    "        sentences = np.array(df[tran_data])\n",
    "        for sen in sentences:\n",
    "            X.append(preprocess_text(sen))\n",
    "                        \n",
    "        self._train_test_split(np.array([X]).T, np.array(y), npz_filename=npz_name)\n",
    "        \n",
    "        \n",
    "\n",
    "    def _train_test_split(self,X,y,npz_filename=''+'.npz',test_size=0.2, random_state=42):\n",
    "        sss = StratifiedShuffleSplit(n_splits=5, test_size=0.5, random_state=0)\n",
    "        sss.get_n_splits(np.array(X), y)\n",
    "        for train_index, test_index in sss.split(X, y):\n",
    "            X_train, X_test = X[train_index], X[test_index]\n",
    "            y_train, y_test = y[train_index], y[test_index]\n",
    "        print(X_train.shape, y_train.shape, X_test.shape, y_test.shape)\n",
    "        tokenizer = Tokenizer(num_words=30000)\n",
    "        tokenizer.fit_on_texts(X_train.ravel())\n",
    "        X_train = tokenizer.texts_to_sequences(X_train.ravel())\n",
    "        X_test = tokenizer.texts_to_sequences(X_test.ravel())\n",
    "        \n",
    "        vocab_size = len(tokenizer.word_index) + 1\n",
    "\n",
    "        maxlen = 100\n",
    "\n",
    "        X_train = pad_sequences(X_train, padding='post', maxlen=maxlen)\n",
    "        X_test = pad_sequences(X_test, padding='post', maxlen=maxlen)\n",
    "        \n",
    "        embeddings_dictionary = dict()\n",
    "        glove_file = open('glove.6B.50d.txt', encoding=\"utf8\")\n",
    "\n",
    "        for line in glove_file:\n",
    "            records = line.split()\n",
    "            word = records[0]\n",
    "            vector_dimensions = asarray(records[1:], dtype='float32')\n",
    "            embeddings_dictionary [word] = vector_dimensions\n",
    "        glove_file.close()\n",
    "        embedding_matrix = zeros((vocab_size, 50))\n",
    "        for word, index in tokenizer.word_index.items():\n",
    "            embedding_vector = embeddings_dictionary.get(word)\n",
    "            if embedding_vector is not None:\n",
    "                embedding_matrix[index] = embedding_vector\n",
    "        \n",
    "        np.savez_compressed(npz_filename,\n",
    "                        X_train=X_train,\n",
    "                        y_train=y_train,\n",
    "                        X_test=X_test,\n",
    "                        y_test=y_test,\n",
    "                        vocab_size=vocab_size, \n",
    "                        embedding_matrix=embedding_matrix)\n",
    "        print(\"Saved {} as .npz\".format(npz_filename))\n",
    "    "
   ]
  },
  {
   "cell_type": "code",
   "execution_count": 8,
   "metadata": {},
   "outputs": [
    {
     "name": "stdout",
     "output_type": "stream",
     "text": [
      "(2820, 1) (2820,) (2820, 1) (2820,)\n",
      "Saved TrumpSplitData as .npz\n",
      "(4000, 1) (4000,) (4000, 1) (4000,)\n",
      "Saved ObamaSplitData as .npz\n"
     ]
    }
   ],
   "source": [
    "compress = Compress()\n",
    "compress.save_as_npz(trump_data, npz_name='TrumpSplitData')\n",
    "compress.save_as_npz(obama_data, npz_name='ObamaSplitData')"
   ]
  },
  {
   "cell_type": "code",
   "execution_count": 28,
   "metadata": {},
   "outputs": [],
   "source": [
    "import numpy as np\n",
    "class load_file:\n",
    "    def __init__(self, file):\n",
    "        self.file = file\n",
    "\n",
    "    def get_data(self):\n",
    "        hal = np.load(self.file)\n",
    "        X_train, y_train, X_test, y_test,vocab_size, embedding_matrix = [hal[f] for f in hal.files]\n",
    "        return X_train, y_train, X_test, y_test,vocab_size, embedding_matrix\n",
    "\n",
    "\n",
    "df = load_file('ObamaSplitData.npz')\n",
    "X_train, y_train, X_test, y_test,vocab_size, embedding_matrix = df.get_data()"
   ]
  },
  {
   "cell_type": "code",
   "execution_count": 35,
   "metadata": {
    "scrolled": true
   },
   "outputs": [
    {
     "name": "stdout",
     "output_type": "stream",
     "text": [
      "Model: \"sequential_13\"\n",
      "_________________________________________________________________\n",
      "Layer (type)                 Output Shape              Param #   \n",
      "=================================================================\n",
      "embedding_12 (Embedding)     (None, 100, 50)           228650    \n",
      "_________________________________________________________________\n",
      "dense_77 (Dense)             (None, 100, 32)           1632      \n",
      "_________________________________________________________________\n",
      "dropout_66 (Dropout)         (None, 100, 32)           0         \n",
      "_________________________________________________________________\n",
      "dense_78 (Dense)             (None, 100, 64)           2112      \n",
      "_________________________________________________________________\n",
      "dropout_67 (Dropout)         (None, 100, 64)           0         \n",
      "_________________________________________________________________\n",
      "dense_79 (Dense)             (None, 100, 128)          8320      \n",
      "_________________________________________________________________\n",
      "dropout_68 (Dropout)         (None, 100, 128)          0         \n",
      "_________________________________________________________________\n",
      "dense_80 (Dense)             (None, 100, 512)          66048     \n",
      "_________________________________________________________________\n",
      "dropout_69 (Dropout)         (None, 100, 512)          0         \n",
      "_________________________________________________________________\n",
      "dense_81 (Dense)             (None, 100, 128)          65664     \n",
      "_________________________________________________________________\n",
      "dropout_70 (Dropout)         (None, 100, 128)          0         \n",
      "_________________________________________________________________\n",
      "flatten_12 (Flatten)         (None, 12800)             0         \n",
      "_________________________________________________________________\n",
      "dropout_71 (Dropout)         (None, 12800)             0         \n",
      "_________________________________________________________________\n",
      "dense_82 (Dense)             (None, 512)               6554112   \n",
      "_________________________________________________________________\n",
      "dense_83 (Dense)             (None, 1)                 513       \n",
      "=================================================================\n",
      "Total params: 6,927,051\n",
      "Trainable params: 6,927,051\n",
      "Non-trainable params: 0\n",
      "_________________________________________________________________\n",
      "None\n"
     ]
    },
    {
     "name": "stderr",
     "output_type": "stream",
     "text": [
      "/home/daniel/anaconda3/lib/python3.7/site-packages/tensorflow_core/python/framework/indexed_slices.py:433: UserWarning: Converting sparse IndexedSlices to a dense Tensor of unknown shape. This may consume a large amount of memory.\n",
      "  \"Converting sparse IndexedSlices to a dense Tensor of unknown shape. \"\n"
     ]
    },
    {
     "name": "stdout",
     "output_type": "stream",
     "text": [
      "Train on 4000 samples, validate on 4000 samples\n",
      "Epoch 1/40\n",
      "4000/4000 [==============================] - 1s 320us/step - loss: 6.8152 - acc: 0.5433 - val_loss: 6.1843 - val_acc: 0.5695\n",
      "Epoch 2/40\n",
      "4000/4000 [==============================] - 1s 210us/step - loss: 6.0029 - acc: 0.5730 - val_loss: 5.4457 - val_acc: 0.5375\n",
      "Epoch 3/40\n",
      "4000/4000 [==============================] - 1s 204us/step - loss: 5.2884 - acc: 0.5788 - val_loss: 4.7835 - val_acc: 0.5640\n",
      "Epoch 4/40\n",
      "4000/4000 [==============================] - 1s 204us/step - loss: 4.6551 - acc: 0.5738 - val_loss: 4.2047 - val_acc: 0.5567\n",
      "Epoch 5/40\n",
      "4000/4000 [==============================] - 1s 203us/step - loss: 4.0928 - acc: 0.5982 - val_loss: 3.7122 - val_acc: 0.5142\n",
      "Epoch 6/40\n",
      "4000/4000 [==============================] - 1s 203us/step - loss: 3.6046 - acc: 0.6118 - val_loss: 3.2990 - val_acc: 0.5048\n",
      "Epoch 7/40\n",
      "4000/4000 [==============================] - 1s 205us/step - loss: 3.1770 - acc: 0.6215 - val_loss: 2.9530 - val_acc: 0.5067\n",
      "Epoch 8/40\n",
      "4000/4000 [==============================] - 1s 205us/step - loss: 2.8211 - acc: 0.6212 - val_loss: 2.6066 - val_acc: 0.5217\n",
      "Epoch 9/40\n",
      "4000/4000 [==============================] - 1s 202us/step - loss: 2.5182 - acc: 0.6373 - val_loss: 2.3210 - val_acc: 0.5430\n",
      "Epoch 10/40\n",
      "4000/4000 [==============================] - 1s 203us/step - loss: 2.2704 - acc: 0.6348 - val_loss: 2.1239 - val_acc: 0.5332\n",
      "Epoch 11/40\n",
      "4000/4000 [==============================] - 1s 204us/step - loss: 2.0614 - acc: 0.6363 - val_loss: 1.9260 - val_acc: 0.5403\n",
      "Epoch 12/40\n",
      "4000/4000 [==============================] - 1s 203us/step - loss: 1.8808 - acc: 0.6378 - val_loss: 1.7350 - val_acc: 0.5713\n",
      "Epoch 13/40\n",
      "4000/4000 [==============================] - 1s 203us/step - loss: 1.7224 - acc: 0.6530 - val_loss: 1.6197 - val_acc: 0.5617\n",
      "Epoch 14/40\n",
      "4000/4000 [==============================] - 1s 203us/step - loss: 1.5950 - acc: 0.6485 - val_loss: 1.4701 - val_acc: 0.6040\n",
      "Epoch 15/40\n",
      "4000/4000 [==============================] - 1s 204us/step - loss: 1.4888 - acc: 0.6398 - val_loss: 1.3784 - val_acc: 0.5993\n",
      "Epoch 16/40\n",
      "4000/4000 [==============================] - 1s 202us/step - loss: 1.3894 - acc: 0.6503 - val_loss: 1.2842 - val_acc: 0.6212\n",
      "Epoch 17/40\n",
      "4000/4000 [==============================] - 1s 203us/step - loss: 1.3039 - acc: 0.6625 - val_loss: 1.1977 - val_acc: 0.6505\n",
      "Epoch 18/40\n",
      "4000/4000 [==============================] - 1s 201us/step - loss: 1.2367 - acc: 0.6618 - val_loss: 1.1266 - val_acc: 0.6655\n",
      "Epoch 19/40\n",
      "4000/4000 [==============================] - 1s 204us/step - loss: 1.1708 - acc: 0.6675 - val_loss: 1.0707 - val_acc: 0.6740\n",
      "Epoch 20/40\n",
      "4000/4000 [==============================] - 1s 200us/step - loss: 1.1224 - acc: 0.6675 - val_loss: 1.0216 - val_acc: 0.6923\n",
      "Epoch 21/40\n",
      "4000/4000 [==============================] - 1s 203us/step - loss: 1.0727 - acc: 0.6770 - val_loss: 0.9796 - val_acc: 0.6910\n",
      "Epoch 22/40\n",
      "4000/4000 [==============================] - 1s 204us/step - loss: 1.0308 - acc: 0.6793 - val_loss: 0.9393 - val_acc: 0.7020\n",
      "Epoch 23/40\n",
      "4000/4000 [==============================] - 1s 202us/step - loss: 0.9877 - acc: 0.6823 - val_loss: 0.9063 - val_acc: 0.6992\n",
      "Epoch 24/40\n",
      "4000/4000 [==============================] - 1s 202us/step - loss: 0.9447 - acc: 0.6965 - val_loss: 0.8674 - val_acc: 0.7143\n",
      "Epoch 25/40\n",
      "4000/4000 [==============================] - 1s 200us/step - loss: 0.9222 - acc: 0.7090 - val_loss: 0.8397 - val_acc: 0.7210\n",
      "Epoch 26/40\n",
      "4000/4000 [==============================] - 1s 202us/step - loss: 0.8873 - acc: 0.7155 - val_loss: 0.8132 - val_acc: 0.7295\n",
      "Epoch 27/40\n",
      "4000/4000 [==============================] - 1s 203us/step - loss: 0.8599 - acc: 0.7193 - val_loss: 0.7883 - val_acc: 0.7350\n",
      "Epoch 28/40\n",
      "4000/4000 [==============================] - 1s 205us/step - loss: 0.8292 - acc: 0.7283 - val_loss: 0.7623 - val_acc: 0.7473\n",
      "Epoch 29/40\n",
      "4000/4000 [==============================] - 1s 204us/step - loss: 0.8084 - acc: 0.7333 - val_loss: 0.7447 - val_acc: 0.7462\n",
      "Epoch 30/40\n",
      "4000/4000 [==============================] - 1s 204us/step - loss: 0.7889 - acc: 0.7385 - val_loss: 0.7252 - val_acc: 0.7530\n",
      "Epoch 31/40\n",
      "4000/4000 [==============================] - 1s 201us/step - loss: 0.7684 - acc: 0.7430 - val_loss: 0.7081 - val_acc: 0.7602\n",
      "Epoch 32/40\n",
      "4000/4000 [==============================] - 1s 203us/step - loss: 0.7498 - acc: 0.7430 - val_loss: 0.6933 - val_acc: 0.7632\n",
      "Epoch 33/40\n",
      "4000/4000 [==============================] - 1s 206us/step - loss: 0.7375 - acc: 0.7540 - val_loss: 0.6789 - val_acc: 0.7670\n",
      "Epoch 34/40\n",
      "4000/4000 [==============================] - 1s 207us/step - loss: 0.7079 - acc: 0.7628 - val_loss: 0.6688 - val_acc: 0.7663\n",
      "Epoch 35/40\n",
      "4000/4000 [==============================] - 1s 204us/step - loss: 0.7032 - acc: 0.7585 - val_loss: 0.6534 - val_acc: 0.7732\n",
      "Epoch 36/40\n",
      "4000/4000 [==============================] - 1s 203us/step - loss: 0.6843 - acc: 0.7707 - val_loss: 0.6433 - val_acc: 0.7740\n",
      "Epoch 37/40\n",
      "4000/4000 [==============================] - 1s 203us/step - loss: 0.6697 - acc: 0.7755 - val_loss: 0.6315 - val_acc: 0.7753\n",
      "Epoch 38/40\n",
      "4000/4000 [==============================] - 1s 204us/step - loss: 0.6527 - acc: 0.7725 - val_loss: 0.6184 - val_acc: 0.7828\n",
      "Epoch 39/40\n",
      "4000/4000 [==============================] - 1s 201us/step - loss: 0.6424 - acc: 0.7868 - val_loss: 0.6103 - val_acc: 0.7880\n",
      "Epoch 40/40\n",
      "4000/4000 [==============================] - 1s 202us/step - loss: 0.6314 - acc: 0.7910 - val_loss: 0.5993 - val_acc: 0.7912\n"
     ]
    },
    {
     "data": {
      "image/png": "[encoded data removed]",
      "text/plain": [
       "<Figure size 432x288 with 1 Axes>"
      ]
     },
     "metadata": {
      "needs_background": "light"
     },
     "output_type": "display_data"
    },
    {
     "data": {
      "image/png": "[encoded data removed]",
      "text/plain": [
       "<Figure size 432x288 with 1 Axes>"
      ]
     },
     "metadata": {
      "needs_background": "light"
     },
     "output_type": "display_data"
    },
    {
     "name": "stdout",
     "output_type": "stream",
     "text": [
      "4000/4000 [==============================] - 0s 75us/step\n",
      "Training Accuracy is 83.92500281333923\n",
      "4000/4000 [==============================] - 0s 75us/step\n",
      "Testing Accuracy is 79.12499904632568 \n",
      "Accuracy: 0.791250\n",
      "Precision: 0.797346\n",
      "Recall: 0.781000\n",
      "F1 score: 0.789088\n",
      "[[1603  397]\n",
      " [ 438 1562]]\n"
     ]
    }
   ],
   "source": [
    "from keras.preprocessing.text import one_hot\n",
    "from keras.preprocessing.sequence import pad_sequences\n",
    "from keras.models import Sequential\n",
    "from keras.layers.core import Activation, Dropout, Dense\n",
    "from keras.layers import Flatten\n",
    "from keras.layers import GlobalMaxPooling1D\n",
    "from keras.layers.embeddings import Embedding\n",
    "from sklearn.model_selection import train_test_split\n",
    "from keras.preprocessing.text import Tokenizer\n",
    "from keras.layers import Dense\n",
    "from keras.constraints import max_norm\n",
    "from keras.regularizers import l1,l2\n",
    "from keras import optimizers\n",
    "import keras\n",
    "from sklearn.metrics import accuracy_score\n",
    "from sklearn.metrics import precision_score\n",
    "from sklearn.metrics import recall_score\n",
    "from sklearn.metrics import f1_score\n",
    "from sklearn.metrics import cohen_kappa_score\n",
    "from sklearn.metrics import roc_auc_score\n",
    "from sklearn.metrics import confusion_matrix\n",
    "maxlen = 100\n",
    "model = Sequential()\n",
    "embedding_layer = Embedding(vocab_size, 50, weights=[embedding_matrix], input_length=maxlen)\n",
    "model.add(embedding_layer)\n",
    "model.add(Dense(32, activity_regularizer=l1(0.001), activation='relu'))\n",
    "model.add(Dropout(0.4))\n",
    "\n",
    "\n",
    "model.add(Dense(64, activation='relu'))\n",
    "model.add(Dropout(0.4))\n",
    "\n",
    "model.add(Dense(128, activation='relu'))\n",
    "model.add(Dropout(0.4))\n",
    "\n",
    "\n",
    "model.add(Dense(512, activation='relu'))\n",
    "model.add(Dropout(0.4))\n",
    "\n",
    "\n",
    "\n",
    "model.add(Dense(128, activation='relu'))\n",
    "model.add(Dropout(0.4))\n",
    "\n",
    "\n",
    "model.add(Flatten())\n",
    "model.add(Dropout(0.4))\n",
    "model.add(Dense(512,activation='relu'))\n",
    "\n",
    "model.add(Dense(1,activation='sigmoid'))\n",
    "model.compile(optimizer=optimizers.adam(lr=.0001), loss='binary_crossentropy', metrics=['acc'])\n",
    "es_callback = keras.callbacks.EarlyStopping(monitor='val_loss', patience=3)\n",
    "print(model.summary())\n",
    "history = model.fit(X_train, y_train, batch_size=64, epochs=40, validation_data=(X_test, y_test), callbacks=[es_callback])\n",
    "\n",
    "\n",
    "import matplotlib.pyplot as plt\n",
    "plt.plot(history.history['acc'])\n",
    "plt.plot(history.history['val_acc'])\n",
    "plt.title('model accuracy')\n",
    "plt.ylabel('accuracy')\n",
    "plt.xlabel('epoch')\n",
    "plt.legend(['train','test'], loc='upper left')\n",
    "plt.show()\n",
    "\n",
    "plt.plot(history.history['loss'])\n",
    "plt.plot(history.history['val_loss'])\n",
    "\n",
    "plt.title('model loss')\n",
    "plt.ylabel('loss')\n",
    "plt.xlabel('epoch')\n",
    "plt.legend(['train','test'], loc='upper left')\n",
    "plt.show()\n",
    "loss, accuracy = model.evaluate(X_train, y_train, verbose=1)\n",
    "print('Training Accuracy is {}'.format(accuracy*100))\n",
    "\n",
    "loss, accuracy = model.evaluate(X_test,y_test)\n",
    "\n",
    "\n",
    "print('Testing Accuracy is {} '.format(accuracy*100))\n",
    "\n",
    "\n",
    "yhat_classes = model.predict_classes(X_test)\n",
    "\n",
    "\n",
    "accuracy = accuracy_score(y_test, yhat_classes)\n",
    "print('Accuracy: %f' % accuracy)\n",
    "# precision tp / (tp + fp)\n",
    "precision = precision_score(y_test, yhat_classes)\n",
    "print('Precision: %f' % precision)\n",
    "# recall: tp / (tp + fn)\n",
    "recall = recall_score(y_test, yhat_classes)\n",
    "print('Recall: %f' % recall)\n",
    "# f1: 2 tp / (2 tp + fp + fn)\n",
    "f1 = f1_score(y_test, yhat_classes)\n",
    "print('F1 score: %f' % f1)\n",
    "matrix = confusion_matrix(y_test, yhat_classes)\n",
    "print(matrix)"
   ]
  },
  {
   "cell_type": "code",
   "execution_count": 42,
   "metadata": {},
   "outputs": [
    {
     "name": "stdout",
     "output_type": "stream",
     "text": [
      "4000/4000 [==============================] - 0s 74us/step\n",
      "Training Accuracy is 83.92500281333923\n",
      "4000/4000 [==============================] - 0s 79us/step\n",
      "Testing Accuracy is 79.12499904632568 \n"
     ]
    }
   ],
   "source": [
    "import numpy as np\n",
    "class load_file:\n",
    "    def __init__(self, file):\n",
    "        self.file = file\n",
    "\n",
    "    def get_data(self):\n",
    "        hal = np.load(self.file)\n",
    "        X_train, y_train, X_test, y_test,vocab_size, embedding_matrix = [hal[f] for f in hal.files]\n",
    "        return X_train, y_train, X_test, y_test,vocab_size, embedding_matrix\n",
    "\n",
    "\n",
    "df = load_file('ObamaSplitData.npz')\n",
    "X_train, y_train, X_test, y_test,vocab_size, embedding_matrix = df.get_data()\n",
    "\n",
    "loss, accuracy = model.evaluate(X_train, y_train, verbose=1)\n",
    "print('Training Accuracy is {}'.format(accuracy*100))\n",
    "\n",
    "loss, accuracy = model.evaluate(X_test,y_test)\n",
    "\n",
    "\n",
    "print('Testing Accuracy is {} '.format(accuracy*100))"
   ]
  },
  {
   "cell_type": "code",
   "execution_count": 44,
   "metadata": {},
   "outputs": [
    {
     "name": "stdout",
     "output_type": "stream",
     "text": [
      "Saved model to disk\n"
     ]
    }
   ],
   "source": [
    "model.save(\"ObamaModel.h5\")\n",
    "print(\"Saved model to disk\")"
   ]
  },
  {
   "cell_type": "code",
   "execution_count": 39,
   "metadata": {},
   "outputs": [],
   "source": [
    "import itertools\n",
    "def plot_confusion_matrix(cm, classes,\n",
    "                          normalize=False,\n",
    "                          title='Confusion matrix',\n",
    "                          cmap=plt.cm.Blues):\n",
    "    \"\"\"\n",
    "    This function prints and plots the confusion matrix.\n",
    "    Normalization can be applied by setting `normalize=True`.\n",
    "    \"\"\"\n",
    "    plt.imshow(cm, interpolation='nearest', cmap=cmap)\n",
    "    plt.title(title)\n",
    "    plt.colorbar()\n",
    "    tick_marks = np.arange(len(classes))\n",
    "    plt.xticks(tick_marks, classes, rotation=45)\n",
    "    plt.yticks(tick_marks, classes)\n",
    "\n",
    "    if normalize:\n",
    "        cm = cm.astype('float') / cm.sum(axis=1)[:, np.newaxis]\n",
    "        print(\"Normalized confusion matrix\")\n",
    "    else:\n",
    "        print('Confusion matrix, without normalization')\n",
    "\n",
    "    print(cm)\n",
    "\n",
    "    thresh = cm.max() / 2.\n",
    "    for i, j in itertools.product(range(cm.shape[0]), range(cm.shape[1])):\n",
    "        plt.text(j, i, cm[i, j],\n",
    "                 horizontalalignment=\"center\",\n",
    "                 color=\"white\" if cm[i, j] > thresh else \"black\")\n",
    "\n",
    "    plt.tight_layout()\n",
    "    plt.ylabel('True label')\n",
    "    plt.xlabel('Predicted label')"
   ]
  },
  {
   "cell_type": "code",
   "execution_count": 40,
   "metadata": {},
   "outputs": [
    {
     "name": "stdout",
     "output_type": "stream",
     "text": [
      "Confusion matrix, without normalization\n",
      "[[1603  397]\n",
      " [ 438 1562]]\n"
     ]
    },
    {
     "data": {
      "image/png": "[encoded data removed]",
      "text/plain": [
       "<Figure size 432x288 with 2 Axes>"
      ]
     },
     "metadata": {
      "needs_background": "light"
     },
     "output_type": "display_data"
    }
   ],
   "source": [
    "cm =confusion_matrix(y_test, yhat_classes)\n",
    "labels = ['Rally', 'Union']\n",
    "plot_confusion_matrix(cm, labels, title='Confusion Matrix')"
   ]
  },
  {
   "cell_type": "code",
   "execution_count": null,
   "metadata": {},
   "outputs": [],
   "source": []
  },
  {
   "cell_type": "code",
   "execution_count": null,
   "metadata": {},
   "outputs": [],
   "source": []
  },
  {
   "cell_type": "code",
   "execution_count": null,
   "metadata": {},
   "outputs": [],
   "source": []
  }
 ],
 "metadata": {
  "kernelspec": {
   "display_name": "Python 3",
   "language": "python",
   "name": "python3"
  },
  "language_info": {
   "codemirror_mode": {
    "name": "ipython",
    "version": 3
   },
   "file_extension": ".py",
   "mimetype": "text/x-python",
   "name": "python",
   "nbconvert_exporter": "python",
   "pygments_lexer": "ipython3",
   "version": "3.7.6"
  }
 },
 "nbformat": 4,
 "nbformat_minor": 4
}
